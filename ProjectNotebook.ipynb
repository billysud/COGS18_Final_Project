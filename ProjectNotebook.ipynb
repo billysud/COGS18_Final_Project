# Project Description

My Project is a maze game. I was inspired by getting this video in my recommended on youtube. https://youtu.be/-0q_miviUDs.
I have never made any game before and this looked like a really cool one to start off on. The one big thing about how my
project differs from this is the maze generation. He used a constant maze but I wanted to challenge myself to try and
create random mazes that would hopefully be traversable.

Note that projects should be self-sufficient, so make sure to provide enough information and context here for someone to understand what you are doing in your project, and why.


## Project Code

If it makes sense for your project, you can have code and outputs here in the notebook as well.

from main import *
import turtle as tr

# Do a bunch of things.
!pytest my_module/test_functions.py

# test it out
!pytest main

#### Extra Credit (*optional*)

Replace all of this text with a brief explanation (~3 sentences) of:
1. I have no background in python, but I do have programming experience. I learned the basics of Java and C++
2. I decided not to do the final project since its something that I could easily finish. I've always wanted
   to make a game after seeing all the youtube tutorials to make this game in 5 minutes. So I went on youtube and
   decided to follow one of these tutorials. I noticed though he was using a static entity for the maze and I wanted
   to create randomness in the maze. Things were harder than expected and I definitely have a lot to improve on but it
   was a great learning experience credit or no credit!